{
 "cells": [
  {
   "cell_type": "code",
   "execution_count": 2,
   "metadata": {
    "scrolled": true
   },
   "outputs": [],
   "source": [
    "import json\n",
    "import pandas as pd\n",
    "import numpy as np\n",
    "import re"
   ]
  },
  {
   "cell_type": "code",
   "execution_count": 3,
   "metadata": {},
   "outputs": [],
   "source": [
    "def load_json(path):\n",
    "    with open(path) as json_file:\n",
    "        data = json.load(json_file)\n",
    "        return data"
   ]
  },
  {
   "cell_type": "code",
   "execution_count": 4,
   "metadata": {},
   "outputs": [],
   "source": [
    "data = load_json('actors.json')\n",
    "actors = data['data']"
   ]
  },
  {
   "cell_type": "code",
   "execution_count": 5,
   "metadata": {},
   "outputs": [
    {
     "name": "stdout",
     "output_type": "stream",
     "text": [
      "False\n"
     ]
    }
   ],
   "source": [
    "test = re.findall(r'[ก-๙]', 'fweffweดำ')\n",
    "print(not test)"
   ]
  },
  {
   "cell_type": "code",
   "execution_count": 41,
   "metadata": {},
   "outputs": [],
   "source": [
    "name_list = []\n",
    "position_list = []\n",
    "company_list = []\n",
    "location_list = []\n",
    "bio_list = []\n",
    "education_list = []\n",
    "experience_position_list = []\n",
    "experience_company_list = []\n",
    "skill_list = []\n",
    "all_skill = []\n",
    "\n",
    "for actor in actors:\n",
    "    name = actor['name'].strip().lower()\n",
    "    \n",
    "    position = actor['position'].strip().lower()\n",
    "    position = position.replace('|', ',').replace('/', ',')\n",
    "    split = re.split('@|at |ที่', position)\n",
    "    position = split[0].strip()\n",
    "    company = \" \" if len(split) < 2 else split[1].strip()\n",
    "    \n",
    "    \n",
    "    \n",
    "    location = actor['location'].strip().lower()\n",
    "    bio = actor['about'].strip().lower()\n",
    "    education = ','.join([\"\" if re.findall(r'[ก-๙]', item) else item.strip().lower() for item in actor['education']])\n",
    "    experience_position = ','.join([item['name'].strip().lower() for item in actor['experience']])\n",
    "    experience_company = ','.join([item['company'].strip().lower() for item in actor['experience']])\n",
    "    skill = ','.join([\"\" if re.findall(r'[ก-๙]', item) else item.strip().lower() for item in actor['skill']])\n",
    "    \n",
    "    all_skill.append([\"\" if re.findall(r'[ก-๙]', item) else item.strip().lower() for item in actor['skill']])\n",
    "    \n",
    "    name_list.append(name)\n",
    "    position_list.append(position)\n",
    "    company_list.append(company)\n",
    "    location_list.append(location)\n",
    "    bio_list.append(bio)\n",
    "    education_list.append(education)\n",
    "    experience_position_list.append(experience_position)\n",
    "    experience_company_list.append(experience_company)\n",
    "    skill_list.append(skill)"
   ]
  },
  {
   "cell_type": "code",
   "execution_count": 7,
   "metadata": {
    "scrolled": true
   },
   "outputs": [
    {
     "data": {
      "text/html": [
       "<div>\n",
       "<style scoped>\n",
       "    .dataframe tbody tr th:only-of-type {\n",
       "        vertical-align: middle;\n",
       "    }\n",
       "\n",
       "    .dataframe tbody tr th {\n",
       "        vertical-align: top;\n",
       "    }\n",
       "\n",
       "    .dataframe thead th {\n",
       "        text-align: right;\n",
       "    }\n",
       "</style>\n",
       "<table border=\"1\" class=\"dataframe\">\n",
       "  <thead>\n",
       "    <tr style=\"text-align: right;\">\n",
       "      <th></th>\n",
       "      <th>name</th>\n",
       "      <th>position</th>\n",
       "      <th>company</th>\n",
       "      <th>location</th>\n",
       "      <th>bio</th>\n",
       "      <th>education</th>\n",
       "      <th>exp_position</th>\n",
       "      <th>exp_company</th>\n",
       "      <th>skill</th>\n",
       "    </tr>\n",
       "  </thead>\n",
       "  <tbody>\n",
       "    <tr>\n",
       "      <th>0</th>\n",
       "      <td>parag khanna</td>\n",
       "      <td>software engineer</td>\n",
       "      <td>agoda</td>\n",
       "      <td>bangkok metropolitan area, thailand</td>\n",
       "      <td></td>\n",
       "      <td>national institute of technology kurukshetra,m...</td>\n",
       "      <td>software engineer,software engineer,sde,softwa...</td>\n",
       "      <td>agoda,tapzo,axisrooms,transbit technologies,we...</td>\n",
       "      <td>java,c,c++,software development,web services,s...</td>\n",
       "    </tr>\n",
       "    <tr>\n",
       "      <th>1</th>\n",
       "      <td>aditya singh</td>\n",
       "      <td>senior software engineer</td>\n",
       "      <td>agoda</td>\n",
       "      <td>bangkok metropolitan area, thailand</td>\n",
       "      <td>a software engineer with 2.5+ years of industr...</td>\n",
       "      <td>shri l.r. tiwari college of engineering,thakur...</td>\n",
       "      <td>senior software engineer,on a career break</td>\n",
       "      <td>agoda,career break</td>\n",
       "      <td>java,nodejs,python,web development,algorithms,...</td>\n",
       "    </tr>\n",
       "    <tr>\n",
       "      <th>2</th>\n",
       "      <td>tatpon poonampai</td>\n",
       "      <td>back end engineer</td>\n",
       "      <td>agoda</td>\n",
       "      <td>bangkok metropolitan area, thailand</td>\n",
       "      <td>i am a passionate programmer who likes coding ...</td>\n",
       "      <td></td>\n",
       "      <td>back end engineer,full-stack developer,.net de...</td>\n",
       "      <td>agoda,true e-logistics,bonzen</td>\n",
       "      <td>node.js,react.js,javascript,docker,react nativ...</td>\n",
       "    </tr>\n",
       "    <tr>\n",
       "      <th>3</th>\n",
       "      <td>kan-anek atichatviwat</td>\n",
       "      <td>software engineer</td>\n",
       "      <td>agoda</td>\n",
       "      <td>bangkok metropolitan area, thailand</td>\n",
       "      <td>experienced software engineer adept in all pro...</td>\n",
       "      <td>university of essex,king mongkut's institute o...</td>\n",
       "      <td>software engineer (data team),software enginee...</td>\n",
       "      <td>agoda,mohara,burda international asia,kurume i...</td>\n",
       "      <td>node.js,react.js,mongodb,software engineering,...</td>\n",
       "    </tr>\n",
       "    <tr>\n",
       "      <th>4</th>\n",
       "      <td>sophiwart kochum</td>\n",
       "      <td>recruiter</td>\n",
       "      <td>agoda</td>\n",
       "      <td>bangkok metropolitan area, thailand</td>\n",
       "      <td></td>\n",
       "      <td>university of hertfordshire,</td>\n",
       "      <td>tech recruiter,recruiter</td>\n",
       "      <td>agoda,ascend corporation</td>\n",
       "      <td>human resources,analytical skills,recruiting,t...</td>\n",
       "    </tr>\n",
       "  </tbody>\n",
       "</table>\n",
       "</div>"
      ],
      "text/plain": [
       "                    name                  position company  \\\n",
       "0           parag khanna         software engineer   agoda   \n",
       "1           aditya singh  senior software engineer   agoda   \n",
       "2       tatpon poonampai         back end engineer   agoda   \n",
       "3  kan-anek atichatviwat         software engineer   agoda   \n",
       "4       sophiwart kochum                 recruiter   agoda   \n",
       "\n",
       "                              location  \\\n",
       "0  bangkok metropolitan area, thailand   \n",
       "1  bangkok metropolitan area, thailand   \n",
       "2  bangkok metropolitan area, thailand   \n",
       "3  bangkok metropolitan area, thailand   \n",
       "4  bangkok metropolitan area, thailand   \n",
       "\n",
       "                                                 bio  \\\n",
       "0                                                      \n",
       "1  a software engineer with 2.5+ years of industr...   \n",
       "2  i am a passionate programmer who likes coding ...   \n",
       "3  experienced software engineer adept in all pro...   \n",
       "4                                                      \n",
       "\n",
       "                                           education  \\\n",
       "0  national institute of technology kurukshetra,m...   \n",
       "1  shri l.r. tiwari college of engineering,thakur...   \n",
       "2                                                      \n",
       "3  university of essex,king mongkut's institute o...   \n",
       "4                       university of hertfordshire,   \n",
       "\n",
       "                                        exp_position  \\\n",
       "0  software engineer,software engineer,sde,softwa...   \n",
       "1         senior software engineer,on a career break   \n",
       "2  back end engineer,full-stack developer,.net de...   \n",
       "3  software engineer (data team),software enginee...   \n",
       "4                           tech recruiter,recruiter   \n",
       "\n",
       "                                         exp_company  \\\n",
       "0  agoda,tapzo,axisrooms,transbit technologies,we...   \n",
       "1                                 agoda,career break   \n",
       "2                      agoda,true e-logistics,bonzen   \n",
       "3  agoda,mohara,burda international asia,kurume i...   \n",
       "4                           agoda,ascend corporation   \n",
       "\n",
       "                                               skill  \n",
       "0  java,c,c++,software development,web services,s...  \n",
       "1  java,nodejs,python,web development,algorithms,...  \n",
       "2  node.js,react.js,javascript,docker,react nativ...  \n",
       "3  node.js,react.js,mongodb,software engineering,...  \n",
       "4  human resources,analytical skills,recruiting,t...  "
      ]
     },
     "execution_count": 7,
     "metadata": {},
     "output_type": "execute_result"
    }
   ],
   "source": [
    "actors_arr = np.transpose(np.array([name_list, position_list, company_list, location_list, bio_list, education_list, experience_position_list, experience_company_list, skill_list]))\n",
    "actors_columns = ['name', 'position', 'company', 'location', 'bio', 'education', 'exp_position', 'exp_company', 'skill']\n",
    "df = pd.DataFrame(actors_arr, columns=actors_columns)\n",
    "df.head()"
   ]
  },
  {
   "cell_type": "code",
   "execution_count": 48,
   "metadata": {},
   "outputs": [],
   "source": [
    "df.to_csv(r'actors.csv', index=False)"
   ]
  },
  {
   "cell_type": "code",
   "execution_count": 78,
   "metadata": {},
   "outputs": [],
   "source": [
    "skills = sum(all_skill, [])\n",
    "df_skill = pd.DataFrame(skills, columns=['skill'])\n",
    "df_skill.to_csv(r'all_skill.csv', index=False)"
   ]
  }
 ],
 "metadata": {
  "kernelspec": {
   "display_name": "Python 3",
   "language": "python",
   "name": "python3"
  },
  "language_info": {
   "codemirror_mode": {
    "name": "ipython",
    "version": 3
   },
   "file_extension": ".py",
   "mimetype": "text/x-python",
   "name": "python",
   "nbconvert_exporter": "python",
   "pygments_lexer": "ipython3",
   "version": "3.7.3"
  }
 },
 "nbformat": 4,
 "nbformat_minor": 4
}
